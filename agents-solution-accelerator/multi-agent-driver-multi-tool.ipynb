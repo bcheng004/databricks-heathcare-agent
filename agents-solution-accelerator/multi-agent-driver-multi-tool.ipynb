{
 "cells": [
  {
   "cell_type": "markdown",
   "metadata": {
    "application/vnd.databricks.v1+cell": {
     "cellMetadata": {
      "byteLimit": 2048000,
      "rowLimit": 10000
     },
     "inputWidgets": {},
     "nuid": "cbd4fe6e-b728-4e24-aa5d-9f1403c3d8ec",
     "showTitle": false,
     "tableResultSettingsMap": {},
     "title": ""
    }
   },
   "source": [
    "#Tool-calling Agent\n",
    "\n",
    "This is an auto-generated notebook created by an AI Playground export.\n",
    "\n",
    "This notebook uses [Mosaic AI Agent Framework](https://docs.databricks.com/generative-ai/agent-framework/build-genai-apps.html) to recreate your agent from the AI Playground. It  demonstrates how to develop, manually test, evaluate, log, and deploy a tool-calling agent in LangGraph.\n",
    "\n",
    "The agent code implements [MLflow's ChatAgent](https://mlflow.org/docs/latest/python_api/mlflow.pyfunc.html#mlflow.pyfunc.ChatAgent) interface, a Databricks-recommended open-source standard that simplifies authoring multi-turn conversational agents, and is fully compatible with Mosaic AI agent framework functionality.\n",
    "\n",
    " **_NOTE:_**  This notebook uses LangChain, but AI Agent Framework is compatible with any agent authoring framework, including LlamaIndex or pure Python agents written with the OpenAI SDK.\n",
    "\n",
    "## Prerequisites\n",
    "\n",
    "- Address all `TODO`s in this notebook."
   ]
  },
  {
   "cell_type": "code",
   "execution_count": 0,
   "metadata": {
    "application/vnd.databricks.v1+cell": {
     "cellMetadata": {
      "byteLimit": 2048000,
      "rowLimit": 10000
     },
     "inputWidgets": {},
     "nuid": "87840947-44dd-444c-a3cb-9bfbd1879fae",
     "showTitle": false,
     "tableResultSettingsMap": {},
     "title": ""
    }
   },
   "outputs": [],
   "source": [
    "%pip install -U -qqqq mlflow langchain langgraph==0.3.4 databricks-langchain pydantic databricks-agents unitycatalog-langchain[databricks] uv openai-agents \n",
    "dbutils.library.restartPython()"
   ]
  },
  {
   "cell_type": "code",
   "execution_count": 0,
   "metadata": {
    "application/vnd.databricks.v1+cell": {
     "cellMetadata": {
      "byteLimit": 2048000,
      "rowLimit": 10000
     },
     "inputWidgets": {},
     "nuid": "0e4d132f-c79b-49ad-81eb-bd73e1f38a38",
     "showTitle": false,
     "tableResultSettingsMap": {},
     "title": ""
    }
   },
   "outputs": [],
   "source": [
    "%load_ext autoreload\n",
    "%autoreload 2\n",
    "import warnings\n",
    "\n",
    "warnings.simplefilter(action=\"ignore\")"
   ]
  },
  {
   "cell_type": "code",
   "execution_count": 0,
   "metadata": {
    "application/vnd.databricks.v1+cell": {
     "cellMetadata": {
      "byteLimit": 2048000,
      "rowLimit": 10000
     },
     "inputWidgets": {},
     "nuid": "cb8b84a9-421a-4f48-9ae2-b90a829dc5aa",
     "showTitle": false,
     "tableResultSettingsMap": {},
     "title": ""
    }
   },
   "outputs": [],
   "source": [
    "dbutils.widgets.text(name=\"catalog\", defaultValue=\"bo_cheng_dnb_demos\", label=\"catalog\")\n",
    "dbutils.widgets.text(name=\"schema\", defaultValue=\"agents\", label=\"schema\")\n",
    "dbutils.widgets.text(name=\"model\", defaultValue=\"multi_agent\", label=\"model\")\n",
    "# dbutils.widgets.text(\n",
    "#     name=\"foundation_model\",\n",
    "#     defaultValue=\"databricks-claude-3-7-sonnet\",\n",
    "#     label=\"foundation_model\",\n",
    "# )\n",
    "dbutils.widgets.text(name=\"DATABRICKS_TOKEN\", defaultValue=\"\", label=\"DATABRICKS_TOKEN\")\n",
    "dbutils.widgets.text(name=\"secret_scope\", defaultValue=\"dbdemos\", label=\"secret_scope\")\n",
    "dbutils.widgets.text(name=\"OPENAI_API_KEY\", defaultValue=\"\", label=\"OPENAI_API_KEY\")"
   ]
  },
  {
   "cell_type": "code",
   "execution_count": 0,
   "metadata": {
    "application/vnd.databricks.v1+cell": {
     "cellMetadata": {
      "byteLimit": 2048000,
      "rowLimit": 10000
     },
     "inputWidgets": {},
     "nuid": "a90b5466-fd3e-4a1e-9871-2da13c2561cd",
     "showTitle": false,
     "tableResultSettingsMap": {},
     "title": ""
    }
   },
   "outputs": [],
   "source": [
    "catalog = dbutils.widgets.get(\"catalog\")\n",
    "schema = dbutils.widgets.get(\"schema\")\n",
    "model = dbutils.widgets.get(\"model\")\n",
    "# LLM_ENDPOINT = dbutils.widgets.get(\"foundation_model\")\n",
    "assert (\n",
    "    len(catalog) > 0 and len(schema) > 0 and len(model) > 0\n",
    "), \"Please provide a valid catalog, schema, and model name\"\n",
    "three_tiered_model_name = f\"{catalog}.{schema}.{model}\"\n",
    "print(f\"{three_tiered_model_name=}\")"
   ]
  },
  {
   "cell_type": "code",
   "execution_count": 0,
   "metadata": {
    "application/vnd.databricks.v1+cell": {
     "cellMetadata": {
      "byteLimit": 2048000,
      "rowLimit": 10000
     },
     "inputWidgets": {},
     "nuid": "31753c40-5c27-41cc-9ba8-25c094aec3bf",
     "showTitle": false,
     "tableResultSettingsMap": {},
     "title": ""
    }
   },
   "outputs": [],
   "source": [
    "from databricks.sdk import WorkspaceClient\n",
    "\n",
    "w = WorkspaceClient()\n",
    "\n",
    "DATABRICKS_HOST = w.config.host\n",
    "\n",
    "secret_scope_name = dbutils.widgets.get(\"secret_scope\")\n",
    "\n",
    "# if needed create a secret scope\n",
    "if secret_scope_name != \"dbdemos\":\n",
    "    w.secrets.create_scope(scope=secret_scope_name)\n",
    "else:\n",
    "    print(f\"Using existing secret scope: {secret_scope_name}\")"
   ]
  },
  {
   "cell_type": "code",
   "execution_count": 0,
   "metadata": {
    "application/vnd.databricks.v1+cell": {
     "cellMetadata": {
      "byteLimit": 2048000,
      "rowLimit": 10000
     },
     "inputWidgets": {},
     "nuid": "07e920c4-37d2-4d26-943a-a47850c6c9eb",
     "showTitle": false,
     "tableResultSettingsMap": {},
     "title": ""
    }
   },
   "outputs": [],
   "source": [
    "# openai API key in Databricks Secrets\n",
    "SECRETS_SCOPE = secret_scope_name\n",
    "SECRETS_KEY = \"DATABRICKS_TOKEN\"\n",
    "OPENAI_SECRETS_KEY = \"OpenAIBo\"\n",
    "\n",
    "# if you need to add an OpenAI API key, you can do so with:\n",
    "\n",
    "if dbutils.widgets.get(\"DATABRICKS_TOKEN\") == \"\":\n",
    "    print(\"no DATABRICKS_TOKEN is provided\")\n",
    "else:\n",
    "    w.secrets.put_secret(\n",
    "        scope=SECRETS_SCOPE,\n",
    "        key=SECRETS_KEY,\n",
    "        string_value=dbutils.widgets.get(\"DATABRICKS_TOKEN\"),\n",
    "    )\n",
    "\n",
    "if dbutils.widgets.get(\"OPENAI_API_KEY\") == \"\":\n",
    "    print(\"no OPENAI_API_KEY is provided\")\n",
    "else:\n",
    "    w.secrets.put_secret(\n",
    "        scope=SECRETS_SCOPE,\n",
    "        key=OPENAI_SECRETS_KEY,\n",
    "        string_value=dbutils.widgets.get(\"OPENAI_API_KEY\"),\n",
    "    )\n",
    "\n",
    "w.secrets.put_secret(\n",
    "    scope=SECRETS_SCOPE, key=\"DATABRICKS_HOST\", string_value=DATABRICKS_HOST\n",
    ")"
   ]
  },
  {
   "cell_type": "markdown",
   "metadata": {
    "application/vnd.databricks.v1+cell": {
     "cellMetadata": {
      "byteLimit": 2048000,
      "rowLimit": 10000
     },
     "inputWidgets": {},
     "nuid": "6bf844b5-cf55-4bd9-9958-9df6f2878d06",
     "showTitle": false,
     "tableResultSettingsMap": {},
     "title": ""
    }
   },
   "source": [
    "## Define the agent in code\n",
    "Below we define our agent code in a single cell, enabling us to easily write it to a local Python file for subsequent logging and deployment using the `%%writefile` magic command.\n",
    "\n",
    "For more examples of tools to add to your agent, see [docs](https://docs.databricks.com/generative-ai/agent-framework/agent-tool.html)."
   ]
  },
  {
   "cell_type": "code",
   "execution_count": 0,
   "metadata": {
    "application/vnd.databricks.v1+cell": {
     "cellMetadata": {
      "byteLimit": 2048000,
      "rowLimit": 10000
     },
     "inputWidgets": {},
     "nuid": "d98dc982-be10-4b7e-a81f-190c19830582",
     "showTitle": false,
     "tableResultSettingsMap": {},
     "title": ""
    }
   },
   "outputs": [],
   "source": [
    "import os\n",
    "\n",
    "os.environ[\"OPENAI_API_KEY\"] = dbutils.secrets.get(\n",
    "    scope=SECRETS_SCOPE, key=OPENAI_SECRETS_KEY\n",
    ")"
   ]
  },
  {
   "cell_type": "code",
   "execution_count": 0,
   "metadata": {
    "application/vnd.databricks.v1+cell": {
     "cellMetadata": {
      "byteLimit": 2048000,
      "implicitDf": true,
      "rowLimit": 10000
     },
     "inputWidgets": {},
     "nuid": "cd754a0d-06db-42f4-890a-f0d848ee484d",
     "showTitle": false,
     "tableResultSettingsMap": {},
     "title": ""
    }
   },
   "outputs": [],
   "source": [
    "%sql\n",
    "CREATE OR REPLACE FUNCTION hls_yatish.agent_solution_accelerator.extract_member_id(\n",
    "    question STRING COMMENT 'input patient question'\n",
    "  )\n",
    "  RETURNS STRING\n",
    "  COMMENT 'Returns member_id given a patient question'\n",
    "  RETURN AI_QUERY(\n",
    "    'databricks-meta-llama-3-1-8b-instruct',\n",
    "    CONCAT(\n",
    "      '### Instruction:\\nExtract only the member ID from the input text. '\n",
    "      || 'Return only the member ID with no extra text.\\n\\n'\n",
    "      || '### Input:\\n',\n",
    "      question,\n",
    "      '\\n\\n### Response:'\n",
    "    ),\n",
    "    'STRING'\n",
    "  )"
   ]
  },
  {
   "cell_type": "code",
   "execution_count": 0,
   "metadata": {
    "application/vnd.databricks.v1+cell": {
     "cellMetadata": {
      "byteLimit": 2048000,
      "implicitDf": true,
      "rowLimit": 10000
     },
     "inputWidgets": {},
     "nuid": "583a68db-3871-47a2-8bdf-6c805d46d9ce",
     "showTitle": false,
     "tableResultSettingsMap": {},
     "title": ""
    }
   },
   "outputs": [],
   "source": [
    "%sql\n",
    "CREATE OR REPLACE FUNCTION hls_yatish.agent_solution_accelerator.extract_deductible(\n",
    "    member_id STRING COMMENT 'Member id'\n",
    "  )\n",
    "  RETURNS TABLE\n",
    "  COMMENT 'Returns member deductible details about a customer'\n",
    "  RETURN\n",
    "    SELECT\n",
    "      mem_deductible,\n",
    "      mem_ded_agg\n",
    "    FROM\n",
    "      hls_yatish.agent_solution_accelerator.member_accumulators a\n",
    "    WHERE\n",
    "      a.member_id = member_id\n",
    "    LIMIT 1;"
   ]
  },
  {
   "cell_type": "code",
   "execution_count": 0,
   "metadata": {
    "application/vnd.databricks.v1+cell": {
     "cellMetadata": {
      "byteLimit": 2048000,
      "implicitDf": true,
      "rowLimit": 10000
     },
     "inputWidgets": {},
     "nuid": "9b149c91-e356-4657-b1ec-38014265f044",
     "showTitle": false,
     "tableResultSettingsMap": {},
     "title": ""
    }
   },
   "outputs": [],
   "source": [
    "%sql\n",
    "-- Create a SQL function that calls the vector_search() AI Function\n",
    "CREATE OR REPLACE FUNCTION hls_yatish.agent_solution_accelerator.cpt_codes_vector_search(\n",
    "    question STRING COMMENT 'The question string for searching insurance cpt codes and their descriptions'\n",
    "  )\n",
    "  RETURNS TABLE\n",
    "  COMMENT 'Executes a search on cpt codes to retrieve text descriptions most relevant to the input question.'\n",
    "  RETURN\n",
    "    SELECT\n",
    "      description,\n",
    "      code\n",
    "    FROM\n",
    "      vector_search(\n",
    "        index => 'hls_yatish.agent_solution_accelerator.cpt_codes_index',\n",
    "        query => question,\n",
    "        num_results => 1\n",
    "      );"
   ]
  },
  {
   "cell_type": "code",
   "execution_count": 0,
   "metadata": {
    "application/vnd.databricks.v1+cell": {
     "cellMetadata": {
      "byteLimit": 2048000,
      "implicitDf": true,
      "rowLimit": 10000
     },
     "inputWidgets": {},
     "nuid": "9a61aa5d-d5e9-44e1-9230-7e437e4e2d33",
     "showTitle": false,
     "tableResultSettingsMap": {},
     "title": ""
    }
   },
   "outputs": [],
   "source": [
    "# %sql\n",
    "# SELECT\n",
    "#   *\n",
    "# FROM\n",
    "#   hls_yatish.agent_solution_accelerator.cpt_codes_vector_search(\n",
    "#     'my member id is 1234. what is cost of hip replacement considering my IP address is 172.217.22.14?'\n",
    "#   ) AS example"
   ]
  },
  {
   "cell_type": "code",
   "execution_count": 0,
   "metadata": {
    "application/vnd.databricks.v1+cell": {
     "cellMetadata": {
      "byteLimit": 2048000,
      "implicitDf": true,
      "rowLimit": 10000
     },
     "inputWidgets": {},
     "nuid": "8253bb8a-5027-4e50-b77f-fad84a6b90c0",
     "showTitle": false,
     "tableResultSettingsMap": {},
     "title": ""
    }
   },
   "outputs": [],
   "source": [
    "%sql\n",
    "CREATE OR REPLACE FUNCTION hls_yatish.agent_solution_accelerator.get_procedure_cost(\n",
    "    procedure_code STRING COMMENT 'Procedure code'\n",
    "  )\n",
    "  RETURNS TABLE\n",
    "  COMMENT 'Returns cost for a procedure code'\n",
    "  RETURN\n",
    "    SELECT\n",
    "      cost as procedure_cost\n",
    "    FROM\n",
    "      hls_yatish.agent_solution_accelerator.procedure_cost a\n",
    "    WHERE\n",
    "      a.procedure_code = procedure_code\n",
    "    LIMIT 1;"
   ]
  },
  {
   "cell_type": "code",
   "execution_count": 0,
   "metadata": {
    "application/vnd.databricks.v1+cell": {
     "cellMetadata": {
      "byteLimit": 2048000,
      "rowLimit": 10000
     },
     "inputWidgets": {},
     "nuid": "096a8291-27c8-4705-b9a8-ea06ff9577b3",
     "showTitle": false,
     "tableResultSettingsMap": {},
     "title": ""
    }
   },
   "outputs": [],
   "source": [
    "from pydantic import BaseModel\n",
    "\n",
    "\n",
    "class PatientInfo(BaseModel):\n",
    "    question: str | None = None\n",
    "    member_id: str | None = None\n",
    "    procedure_code: str | None = None\n",
    "    # procedure_cost: float | None = None\n",
    "    # mem_deductible: float | None = None\n",
    "    # mem_ded_agg: float | None = None"
   ]
  },
  {
   "cell_type": "code",
   "execution_count": 0,
   "metadata": {
    "application/vnd.databricks.v1+cell": {
     "cellMetadata": {
      "byteLimit": 2048000,
      "rowLimit": 10000
     },
     "inputWidgets": {},
     "nuid": "55186c2a-5ccb-45bd-a6cd-82f81cfa889c",
     "showTitle": false,
     "tableResultSettingsMap": {},
     "title": ""
    }
   },
   "outputs": [],
   "source": [
    "from unitycatalog.ai.core.databricks import (\n",
    "    DatabricksFunctionClient,\n",
    "    FunctionExecutionResult,\n",
    ")\n",
    "from agents import function_tool, RunContextWrapper\n",
    "\n",
    "\n",
    "@function_tool\n",
    "def return_member_id(\n",
    "    wrapper: RunContextWrapper[PatientInfo], question: str\n",
    ") -> FunctionExecutionResult:\n",
    "    print(\"[DEBUG]: the 'return_member_id' tool was called\")\n",
    "    wrapper.context.question = question\n",
    "    client = DatabricksFunctionClient()\n",
    "    return client.execute_function(\n",
    "        function_name=\"hls_yatish.agent_solution_accelerator.extract_member_id\",\n",
    "        parameters={\"question\": wrapper.context.question},\n",
    "    )\n",
    "\n",
    "\n",
    "@function_tool\n",
    "def return_deductible_info(\n",
    "    wrapper: RunContextWrapper[PatientInfo], member_id: str\n",
    ") -> FunctionExecutionResult:\n",
    "    print(\"[DEBUG]: the 'return_deductible_info' tool was called\")\n",
    "    wrapper.context.member_id = member_id\n",
    "    client = DatabricksFunctionClient()\n",
    "    return client.execute_function(\n",
    "        function_name=\"hls_yatish.agent_solution_accelerator.extract_deductible\",\n",
    "        parameters={\"member_id\": wrapper.context.member_id},\n",
    "    )\n",
    "\n",
    "\n",
    "@function_tool\n",
    "def cpt_codes_vector_search(question: str) -> FunctionExecutionResult:\n",
    "    print(\"[DEBUG]: the 'cpt_codes_vector_search' tool was called\")\n",
    "    client = DatabricksFunctionClient()\n",
    "    return client.execute_function(\n",
    "        function_name=\"hls_yatish.agent_solution_accelerator.cpt_codes_vector_search\",\n",
    "        parameters={\"question\": question},\n",
    "    )\n",
    "\n",
    "\n",
    "@function_tool\n",
    "def return_procedure_cost(\n",
    "    wrapper: RunContextWrapper[PatientInfo], procedure_code: str\n",
    ") -> FunctionExecutionResult:\n",
    "    print(\"[DEBUG]: the 'return_procedure_cost' tool was called\")\n",
    "    wrapper.context.procedure_code = procedure_code\n",
    "    client = DatabricksFunctionClient()\n",
    "    return client.execute_function(\n",
    "        function_name=\"hls_yatish.agent_solution_accelerator.get_procedure_cost\",\n",
    "        parameters={\"procedure_code\": wrapper.context.procedure_code},\n",
    "    )"
   ]
  },
  {
   "cell_type": "markdown",
   "metadata": {
    "application/vnd.databricks.v1+cell": {
     "cellMetadata": {
      "byteLimit": 2048000,
      "rowLimit": 10000
     },
     "inputWidgets": {},
     "nuid": "1e887ed5-9a5e-49dd-8e58-81ca1b094c7b",
     "showTitle": false,
     "tableResultSettingsMap": {},
     "title": ""
    }
   },
   "source": [
    "## Below cell shows how to use a Databricks Foundation Model instead of an OpenAI model\n",
    "  * Keep in mind `WebSearchTool` is only supported with OpenAI models"
   ]
  },
  {
   "cell_type": "code",
   "execution_count": 0,
   "metadata": {
    "application/vnd.databricks.v1+cell": {
     "cellMetadata": {
      "byteLimit": 2048000,
      "rowLimit": 10000
     },
     "inputWidgets": {},
     "nuid": "222c33f4-81ea-40fd-b253-6a8f4a17097b",
     "showTitle": false,
     "tableResultSettingsMap": {},
     "title": ""
    }
   },
   "outputs": [],
   "source": [
    "# If you want custom model hosted outside of OpenAI\n",
    "# You can use the following to set up\n",
    "from openai import AsyncOpenAI\n",
    "from agents import OpenAIChatCompletionsModel, set_tracing_disabled\n",
    "\n",
    "BASE_URL = (\n",
    "    f'https://{spark.conf.get(\"spark.databricks.workspaceUrl\")}/serving-endpoints/'\n",
    ")\n",
    "\n",
    "API_KEY = dbutils.secrets.get(scope=SECRETS_SCOPE, key=SECRETS_KEY)\n",
    "\n",
    "# You can replace 'gpt-4o' with the MODEL variable in the Agent definition\n",
    "# MODEL = \"gpt-4o\"\n",
    "MODEL = \"databricks-claude-sonnet-4\"\n",
    "\n",
    "client = AsyncOpenAI(base_url=BASE_URL, api_key=API_KEY)\n",
    "\n",
    "# Create the custom llm object\n",
    "custom_llm = OpenAIChatCompletionsModel(\n",
    "    model=MODEL,\n",
    "    openai_client=client,\n",
    ")"
   ]
  },
  {
   "cell_type": "code",
   "execution_count": 0,
   "metadata": {
    "application/vnd.databricks.v1+cell": {
     "cellMetadata": {
      "byteLimit": 2048000,
      "rowLimit": 10000
     },
     "inputWidgets": {},
     "nuid": "d2ce58b7-e6ab-4942-94f3-13eb19bdac88",
     "showTitle": false,
     "tableResultSettingsMap": {},
     "title": ""
    }
   },
   "outputs": [],
   "source": [
    "from agents.extensions.handoff_prompt import RECOMMENDED_PROMPT_PREFIX\n",
    "\n",
    "# This is OpenAI SDK's recommended prompt prefix\n",
    "RECOMMENDED_PROMPT_PREFIX"
   ]
  },
  {
   "cell_type": "code",
   "execution_count": 0,
   "metadata": {
    "application/vnd.databricks.v1+cell": {
     "cellMetadata": {
      "byteLimit": 2048000,
      "rowLimit": 10000
     },
     "inputWidgets": {},
     "nuid": "cf9b613d-10cd-4a6b-8ccf-a8cbe6a453e6",
     "showTitle": false,
     "tableResultSettingsMap": {},
     "title": ""
    }
   },
   "outputs": [],
   "source": [
    "from agents import Agent, Runner, set_tracing_disabled, WebSearchTool\n",
    "\n",
    "# You can turn off tracing by setting this to True\n",
    "set_tracing_disabled(disabled=True)\n",
    "\n",
    "procedure_detail_retrieval_agent = Agent[PatientInfo](\n",
    "    name=\"Procedure Detail Retrieval Agent\",\n",
    "    instructions=(\n",
    "        f\"{RECOMMENDED_PROMPT_PREFIX}\"\n",
    "        \"You are a procedure details retrieval agent. \"\n",
    "        \"If you are speaking to a customer, you probably were transferred to you from the triage agent. \"\n",
    "        \"Use the following routine to support the customer. \\n\"\n",
    "        \"# Routine: \\n\"\n",
    "        \"1. Use the cpt_codes_vector_search tool to get the most similar code and description given the original question. \\n\"\n",
    "        \"2. Use procedure_code output from step 1 as input for the return_procedure_cost tool to get the procedure cost. \\n\"\n",
    "        # \"3. If you are provided an IP address use the WebSearchTool to convert the IP address into a location using the return_location_search tool to provide location specific recommendations. \\n\"\n",
    "        # \"4. For the recommendations, please provide the latitude and longitude of the location 1 top recommended doctor related to the original question. \\n\"\n",
    "        # \"5. Do not mention IP address in the response. \\n\"\n",
    "        # \"6. If you cannot answer the question, transfer back to the triage agent. \\n\"\n",
    "    ),\n",
    "    tools=[cpt_codes_vector_search, return_procedure_cost],\n",
    "    # model=custom_llm,\n",
    "    model=\"gpt-4o\",\n",
    ")\n",
    "\n",
    "member_deductible_agent = Agent[PatientInfo](\n",
    "    name=\"Member Deductible Agent\",\n",
    "    instructions=(\n",
    "        f\"{RECOMMENDED_PROMPT_PREFIX}\"\n",
    "        \"You are a member deductible agent. \"\n",
    "        \"Use the following routine to support the customer.\\n\"\n",
    "        \"# Routine: \\n\"\n",
    "        \"1. Use the return_member_id tool to extract member id. \\n\"\n",
    "        \"2. Use member id from step 1 as input for the return_deductible_info tool to get the member deductible and member deductible aggregate. \\n\"\n",
    "        # \"3. If you cannot answer the question, transfer back to the triage agent. \\n\"\n",
    "    ),\n",
    "    tools=[return_member_id, return_deductible_info],\n",
    "    # model=custom_llm,\n",
    "    model=\"gpt-4o\",\n",
    ")\n",
    "\n",
    "recommended_doctor_agent = Agent[PatientInfo](\n",
    "    name=\"Recommended Doctor Agent\",\n",
    "    instructions=(\n",
    "        f\"{RECOMMENDED_PROMPT_PREFIX}\"\n",
    "        \"You are a doctor recommendation agent. \"\n",
    "        \"Use the following routine to support the customer.\\n\"\n",
    "        \"# Routine: \\n\"\n",
    "        # \"1. If you are provided an IP address use the WebSearchTool to convert the IP address into a location. \\n\"\n",
    "        # \"2. Use the WebSearchTool to provide the latitude and longitude of a top recommended doctor close to the location in step 1 related to the ailment listed in the original question. \\n\"\n",
    "        # \"2. Do not mention IP address in the response. \\n\"\n",
    "        \"1. Search the web using the current location and give me 1 recommended doctor. \\n\"\n",
    "        \"2. Search the web to provide the latitude and longitude of the recommended doctor close to the location in step 1. \\n\"\n",
    "        # \"3. If you cannot answer the question, transfer back to the triage agent. \\n\"\n",
    "    ),\n",
    "    tools=[\n",
    "        WebSearchTool(user_location={\"type\": \"approximate\", \"city\": \"New York\"}),\n",
    "        # WebSearchTool()\n",
    "    ],\n",
    "    # model=custom_llm,\n",
    "    model=\"gpt-4o\",\n",
    ")\n",
    "\n",
    "orchestrator_agent = Agent[PatientInfo](\n",
    "    name=\"Orchestrator agent\",\n",
    "    instructions=(\n",
    "        f\"{RECOMMENDED_PROMPT_PREFIX}\"\n",
    "        \"You are a helpful insurance agent. \"\n",
    "        \"You can use your tools to delegate questions to other appropriate agents. You can call the relevant tools in any order\"\n",
    "        \"You never gather the information on your own, you always use the provided tools.\"\n",
    "    ),\n",
    "    # handoffs=[procedure_detail_retrieval_agent, member_deductible_agent],\n",
    "    tools=[\n",
    "        procedure_detail_retrieval_agent.as_tool(\n",
    "            tool_name=\"procedure_detail_retrieval_agent\",\n",
    "            tool_description=\"gather procedure details\",\n",
    "        ),\n",
    "        member_deductible_agent.as_tool(\n",
    "            tool_name=\"member_deductible_agent\",\n",
    "            tool_description=\"get member deductible and member deductible aggregate\",\n",
    "        ),\n",
    "        recommended_doctor_agent.as_tool(\n",
    "            tool_name=\"recommended_doctor_agent\",\n",
    "            tool_description=\"get recommended doctors along with latitude and longitude if provided IP address\",\n",
    "        ),\n",
    "    ],\n",
    "    # model=custom_llm,\n",
    "    model=\"gpt-4o\",\n",
    ")"
   ]
  },
  {
   "cell_type": "markdown",
   "metadata": {
    "application/vnd.databricks.v1+cell": {
     "cellMetadata": {
      "byteLimit": 2048000,
      "rowLimit": 10000
     },
     "inputWidgets": {},
     "nuid": "573896d5-6973-4c6f-bf55-5da419a81cef",
     "showTitle": false,
     "tableResultSettingsMap": {},
     "title": ""
    }
   },
   "source": [
    "### Experiment with MLflow"
   ]
  },
  {
   "cell_type": "code",
   "execution_count": 0,
   "metadata": {
    "application/vnd.databricks.v1+cell": {
     "cellMetadata": {
      "byteLimit": 2048000,
      "rowLimit": 10000
     },
     "inputWidgets": {},
     "nuid": "e719b371-3763-409b-94e4-9f9d6573623b",
     "showTitle": false,
     "tableResultSettingsMap": {},
     "title": ""
    }
   },
   "outputs": [],
   "source": [
    "patient_info = PatientInfo(\n",
    "    question=\"my member id is 1234. what is cost of hip replacement considering my IP address is 66.249.64.0?\",\n",
    "    member_id=\"1234\",\n",
    "    procedure_code=None,\n",
    ")\n",
    "user_input = \"[USER]: I'like to check the cost of the procedure and my deductibles\""
   ]
  },
  {
   "cell_type": "code",
   "execution_count": 0,
   "metadata": {
    "application/vnd.databricks.v1+cell": {
     "cellMetadata": {
      "byteLimit": 2048000,
      "rowLimit": 10000
     },
     "inputWidgets": {},
     "nuid": "9ca19bf9-9267-4999-ae03-843e3f354392",
     "showTitle": false,
     "tableResultSettingsMap": {},
     "title": ""
    }
   },
   "outputs": [],
   "source": [
    "import mlflow\n",
    "\n",
    "# Start a chat span\n",
    "with mlflow.start_span(name=\"deductible_agent\", span_type=\"AGENT\") as span:\n",
    "    print(\"[AGENT] Hello! How may I assist you?\")\n",
    "    while True:\n",
    "        user_input = input(\"[USER]: \")\n",
    "        if user_input.lower() == \"exit\":\n",
    "            print(\"[AGENT]: Bye!\")\n",
    "            break\n",
    "        if not user_input:\n",
    "            continue\n",
    "        try:\n",
    "            result = await Runner.run(\n",
    "                starting_agent=orchestrator_agent, input=user_input, context=patient_info\n",
    "            )\n",
    "            print(\"\\n[AGENT]:\", result.final_output)\n",
    "        except Exception as e:\n",
    "            print(f\"\\nError occurred: {str(e)}\")"
   ]
  },
  {
   "cell_type": "code",
   "execution_count": 0,
   "metadata": {
    "application/vnd.databricks.v1+cell": {
     "cellMetadata": {
      "byteLimit": 2048000,
      "rowLimit": 10000
     },
     "inputWidgets": {},
     "nuid": "84f96271-aa0e-4acf-b67b-70085f4aa863",
     "showTitle": false,
     "tableResultSettingsMap": {},
     "title": ""
    }
   },
   "outputs": [],
   "source": [
    "%%writefile agent.py\n",
    "from typing import Any, Generator, Optional, Sequence, Union\n",
    "\n",
    "import mlflow\n",
    "from databricks_langchain import (\n",
    "    ChatDatabricks,\n",
    "    VectorSearchRetrieverTool,\n",
    "    DatabricksFunctionClient,\n",
    "    UCFunctionToolkit,\n",
    "    set_uc_function_client,\n",
    ")\n",
    "from langchain_community.utilities import GoogleSerperAPIWrapper\n",
    "\n",
    "# from langchain_community.utilities.pebblo import get_ip\n",
    "from langchain_core.language_models import LanguageModelLike\n",
    "from langchain_core.runnables import RunnableConfig, RunnableLambda\n",
    "from langchain_core.tools import BaseTool, Tool\n",
    "from langgraph.graph import END, StateGraph\n",
    "from langgraph.graph.graph import CompiledGraph\n",
    "from langgraph.graph.state import CompiledStateGraph\n",
    "from langgraph.prebuilt.tool_node import ToolNode\n",
    "from mlflow.langchain.chat_agent_langgraph import ChatAgentState, ChatAgentToolNode\n",
    "from mlflow.pyfunc import ChatAgent\n",
    "from mlflow.types.agent import (\n",
    "    ChatAgentChunk,\n",
    "    ChatAgentMessage,\n",
    "    ChatAgentResponse,\n",
    "    ChatContext,\n",
    ")\n",
    "\n",
    "mlflow.langchain.autolog()\n",
    "\n",
    "client = DatabricksFunctionClient()\n",
    "set_uc_function_client(client)\n",
    "\n",
    "############################################\n",
    "# Define your LLM endpoint and system prompt\n",
    "############################################\n",
    "LLM_ENDPOINT_NAME = \"databricks-claude-3-7-sonnet\"\n",
    "llm = ChatDatabricks(endpoint=LLM_ENDPOINT_NAME, temperature=0.1)\n",
    "\n",
    "system_prompt = \"\"\"\n",
    "    You are an insurance policy Q&A agent. \n",
    "    You are given a task and you must complete it.\n",
    "    Use the following routine to support the customer.\n",
    "    # Routine:\n",
    "    1. Use the extract_member_id1 tool to extract member id.\n",
    "    2. Use the cpt_codes_retriever tool to get the most similar code and description given the original question.\n",
    "    3. Use member id from step 1 as input for the extract_deductible tool to get the member deductible and member deductible aggregate.\n",
    "    4. Use code from step 2 as input for the get_procedure_cost tool to get the procedure cost.\n",
    "    4. If you are provided an IP address convert the IP address into a location to provide location specific recommendations.\n",
    "    5. For the recommendations, please provide the latitude and longitude of the location 3 top recommended doctors related to the original question.\n",
    "    6. Do not mention IP address in the response.\n",
    "    7. Summarize the member id, member deductible, member deductible aggregate, code, procedure cost, and top recommended doctors with location related data be as concise as possible\n",
    "    You can use the following tools to complete the task:\n",
    "    {tools}\"\"\"\n",
    "\n",
    "###############################################################################\n",
    "## Define tools for your agent, enabling it to retrieve data or take actions\n",
    "## beyond text generation\n",
    "## To create and see usage examples of more tools, see\n",
    "## https://docs.databricks.com/generative-ai/agent-framework/agent-tool.html\n",
    "###############################################################################\n",
    "search = GoogleSerperAPIWrapper()\n",
    "# ip_tool = get_ip()\n",
    "tools = [\n",
    "    # Tool(\n",
    "    #     name=\"IP_Address\",\n",
    "    #     func=lambda _: ip_tool,\n",
    "    #     description=\"useful for when you need to get the IP address of the user\",\n",
    "    # ),\n",
    "    Tool(\n",
    "        name=\"Intermediate_Answer\",\n",
    "        func=search.run,\n",
    "        description=\"useful for when you need to ask with search\",\n",
    "    ),\n",
    "]\n",
    "\n",
    "# You can use UDFs in Unity Catalog as agent tools\n",
    "uc_tool_catalog = \"hls_yatish\"\n",
    "uc_tool_schema = \"agent_solution_accelerator\"\n",
    "uc_tool_names = [\n",
    "    f\"{uc_tool_catalog}.{uc_tool_schema}.extract_member_id1\",\n",
    "    f\"{uc_tool_catalog}.{uc_tool_schema}.extract_deductible\",\n",
    "    f\"{uc_tool_catalog}.{uc_tool_schema}.get_procedure_cost\",\n",
    "]\n",
    "uc_toolkit = UCFunctionToolkit(function_names=uc_tool_names)\n",
    "tools.extend(uc_toolkit.tools)\n",
    "\n",
    "vector_search_index_tools = [\n",
    "    VectorSearchRetrieverTool(\n",
    "        index_name=\"hls_yatish.agent_solution_accelerator.cpt_codes_index\",\n",
    "        num_results=1,\n",
    "        tool_name=\"cpt_codes_retriever\",\n",
    "        tool_description=\"Retrieves information about cpt codes\",\n",
    "        query_type=\"ANN\",\n",
    "    )\n",
    "]\n",
    "tools.extend(vector_search_index_tools)\n",
    "\n",
    "# # (Optional) Use Databricks vector search indexes as tools\n",
    "# # See https://docs.databricks.com/generative-ai/agent-framework/unstructured-retrieval-tools.html\n",
    "# # for details\n",
    "#\n",
    "# # TODO: Add vector search indexes as tools or delete this block\n",
    "# vector_search_tools = [\n",
    "#         VectorSearchRetrieverTool(\n",
    "#         index_name=\"\",\n",
    "#         # filters=\"...\"\n",
    "#     )\n",
    "# ]\n",
    "# tools.extend(vector_search_tools)\n",
    "\n",
    "\n",
    "#####################\n",
    "## Define agent logic\n",
    "#####################\n",
    "\n",
    "\n",
    "def create_tool_calling_agent(\n",
    "    model: LanguageModelLike,\n",
    "    tools: Union[Sequence[BaseTool], ToolNode],\n",
    "    system_prompt: Optional[str] = None,\n",
    ") -> CompiledGraph:\n",
    "    model = model.bind_tools(tools)\n",
    "\n",
    "    # Define the function that determines which node to go to\n",
    "    def should_continue(state: ChatAgentState):\n",
    "        messages = state[\"messages\"]\n",
    "        last_message = messages[-1]\n",
    "        # If there are function calls, continue. else, end\n",
    "        if last_message.get(\"tool_calls\"):\n",
    "            return \"continue\"\n",
    "        else:\n",
    "            return \"end\"\n",
    "\n",
    "    if system_prompt:\n",
    "        preprocessor = RunnableLambda(\n",
    "            lambda state: [{\"role\": \"system\", \"content\": system_prompt}]\n",
    "            + state[\"messages\"]\n",
    "        )\n",
    "    else:\n",
    "        preprocessor = RunnableLambda(lambda state: state[\"messages\"])\n",
    "    model_runnable = preprocessor | model\n",
    "\n",
    "    def call_model(\n",
    "        state: ChatAgentState,\n",
    "        config: RunnableConfig,\n",
    "    ):\n",
    "        response = model_runnable.invoke(state, config)\n",
    "\n",
    "        return {\"messages\": [response]}\n",
    "\n",
    "    workflow = StateGraph(ChatAgentState)\n",
    "\n",
    "    workflow.add_node(\"agent\", RunnableLambda(call_model))\n",
    "    workflow.add_node(\"tools\", ChatAgentToolNode(tools))\n",
    "\n",
    "    workflow.set_entry_point(\"agent\")\n",
    "    workflow.add_conditional_edges(\n",
    "        \"agent\",\n",
    "        should_continue,\n",
    "        {\n",
    "            \"continue\": \"tools\",\n",
    "            \"end\": END,\n",
    "        },\n",
    "    )\n",
    "    workflow.add_edge(\"tools\", \"agent\")\n",
    "\n",
    "    return workflow.compile()\n",
    "\n",
    "\n",
    "class LangGraphChatAgent(ChatAgent):\n",
    "    def __init__(self, agent: CompiledStateGraph):\n",
    "        self.agent = agent\n",
    "\n",
    "    def predict(\n",
    "        self,\n",
    "        messages: list[ChatAgentMessage],\n",
    "        context: Optional[ChatContext] = None,\n",
    "        custom_inputs: Optional[dict[str, Any]] = None,\n",
    "    ) -> ChatAgentResponse:\n",
    "        request = {\"messages\": self._convert_messages_to_dict(messages)}\n",
    "\n",
    "        messages = []\n",
    "        for event in self.agent.stream(request, stream_mode=\"updates\"):\n",
    "            for node_data in event.values():\n",
    "                messages.extend(\n",
    "                    ChatAgentMessage(**msg) for msg in node_data.get(\"messages\", [])\n",
    "                )\n",
    "        return ChatAgentResponse(messages=messages)\n",
    "\n",
    "    def predict_stream(\n",
    "        self,\n",
    "        messages: list[ChatAgentMessage],\n",
    "        context: Optional[ChatContext] = None,\n",
    "        custom_inputs: Optional[dict[str, Any]] = None,\n",
    "    ) -> Generator[ChatAgentChunk, None, None]:\n",
    "        request = {\"messages\": self._convert_messages_to_dict(messages)}\n",
    "        for event in self.agent.stream(request, stream_mode=\"updates\"):\n",
    "            for node_data in event.values():\n",
    "                yield from (\n",
    "                    ChatAgentChunk(**{\"delta\": msg}) for msg in node_data[\"messages\"]\n",
    "                )\n",
    "\n",
    "\n",
    "# Create the agent object, and specify it as the agent object to use when\n",
    "# loading the agent back for inference via mlflow.models.set_model()\n",
    "agent = create_tool_calling_agent(llm, tools, system_prompt)\n",
    "AGENT = LangGraphChatAgent(agent)\n",
    "mlflow.models.set_model(AGENT)"
   ]
  },
  {
   "cell_type": "markdown",
   "metadata": {
    "application/vnd.databricks.v1+cell": {
     "cellMetadata": {},
     "inputWidgets": {},
     "nuid": "dd7d2600-e01a-46f6-8c33-017b2cf39bcf",
     "showTitle": false,
     "tableResultSettingsMap": {},
     "title": ""
    }
   },
   "source": [
    "## Test the agent\n",
    "\n",
    "Interact with the agent to test its output. Since this notebook called `mlflow.langchain.autolog()` you can view the trace for each step the agent takes.\n",
    "\n",
    "Replace this placeholder input with an appropriate domain-specific example for your agent."
   ]
  },
  {
   "cell_type": "code",
   "execution_count": 0,
   "metadata": {
    "application/vnd.databricks.v1+cell": {
     "cellMetadata": {
      "byteLimit": 2048000,
      "rowLimit": 10000
     },
     "inputWidgets": {},
     "nuid": "3c0708fe-99c2-479b-912d-0085bd103103",
     "showTitle": false,
     "tableResultSettingsMap": {},
     "title": ""
    }
   },
   "outputs": [],
   "source": [
    "# dbutils.library.restartPython()"
   ]
  },
  {
   "cell_type": "code",
   "execution_count": 0,
   "metadata": {
    "application/vnd.databricks.v1+cell": {
     "cellMetadata": {
      "byteLimit": 2048000,
      "rowLimit": 10000
     },
     "inputWidgets": {},
     "nuid": "d8951655-81c0-4b7e-9c22-5043c9baa834",
     "showTitle": false,
     "tableResultSettingsMap": {},
     "title": ""
    }
   },
   "outputs": [],
   "source": [
    "from agent import AGENT\n",
    "\n",
    "AGENT.predict(\n",
    "    {\n",
    "        \"messages\": [\n",
    "            {\n",
    "                \"role\": \"user\",\n",
    "                \"content\": \"my member id is 1234. what is cost of hip replacement considering my IP address is 172.217.22.14?\",\n",
    "            }\n",
    "        ]\n",
    "    }\n",
    ")"
   ]
  },
  {
   "cell_type": "code",
   "execution_count": 0,
   "metadata": {
    "application/vnd.databricks.v1+cell": {
     "cellMetadata": {
      "byteLimit": 2048000,
      "rowLimit": 10000
     },
     "inputWidgets": {},
     "nuid": "7b9dddbc-d49a-4077-84d2-a7e65e4dead7",
     "showTitle": false,
     "tableResultSettingsMap": {},
     "title": ""
    }
   },
   "outputs": [],
   "source": [
    "# for event in AGENT.predict_stream(\n",
    "#     {\"messages\": [{\"role\": \"user\", \"content\": \"What tables are related to 'supply chain'?\"}]}\n",
    "# ):\n",
    "#     print(event, \"-----------\\n\")"
   ]
  },
  {
   "cell_type": "markdown",
   "metadata": {
    "application/vnd.databricks.v1+cell": {
     "cellMetadata": {},
     "inputWidgets": {},
     "nuid": "1ac0cfdb-37e4-4c9a-a2aa-9d890320bfce",
     "showTitle": false,
     "tableResultSettingsMap": {},
     "title": ""
    }
   },
   "source": [
    "### Log the `agent` as an MLflow model\n",
    "Determine Databricks resources to specify for automatic auth passthrough at deployment time\n",
    "- **TODO**: If your Unity Catalog tool queries a [vector search index](https://docs.databricks.com/generative-ai/agent-framework/unstructured-retrieval-tools.html) or leverages [external functions](https://docs.databricks.com/generative-ai/agent-framework/external-connection-tools.html), you need to include the dependent vector search index and UC connection objects, respectively, as resources. See [docs](https://docs.databricks.com/generative-ai/agent-framework/log-agent.html#specify-resources-for-automatic-authentication-passthrough) for more details.\n",
    "\n",
    "Log the agent as code from the `agent.py` file. See [MLflow - Models from Code](https://mlflow.org/docs/latest/models.html#models-from-code)."
   ]
  },
  {
   "cell_type": "code",
   "execution_count": 0,
   "metadata": {
    "application/vnd.databricks.v1+cell": {
     "cellMetadata": {
      "byteLimit": 2048000,
      "rowLimit": 10000
     },
     "inputWidgets": {},
     "nuid": "2e47bff7-ec79-4f1a-bb99-9fbafe3a7215",
     "showTitle": false,
     "tableResultSettingsMap": {},
     "title": ""
    }
   },
   "outputs": [],
   "source": [
    "# Determine Databricks resources to specify for automatic auth passthrough at deployment time\n",
    "import mlflow\n",
    "from agent import tools, LLM_ENDPOINT_NAME\n",
    "from databricks_langchain import VectorSearchRetrieverTool\n",
    "from mlflow.models.resources import (\n",
    "    DatabricksFunction,\n",
    "    DatabricksServingEndpoint,\n",
    "    DatabricksTable,\n",
    ")\n",
    "from unitycatalog.ai.langchain.toolkit import UnityCatalogTool\n",
    "\n",
    "# TODO: Manually include underlying resources if needed. See the TODO in the markdown above for more information.\n",
    "resources = [\n",
    "    DatabricksServingEndpoint(endpoint_name=LLM_ENDPOINT_NAME),\n",
    "    DatabricksTable(table_name=)\n",
    "]\n",
    "for tool in tools:\n",
    "    if isinstance(tool, VectorSearchRetrieverTool):\n",
    "        resources.extend(tool.resources)\n",
    "    elif isinstance(tool, UnityCatalogTool):\n",
    "        resources.append(DatabricksFunction(function_name=tool.uc_function_name))\n",
    "\n",
    "input_example = {\n",
    "    \"messages\": [{\"role\": \"user\", \"content\": \"What is the hometown of the reigning men's U.S. Open champion?\"}]\n",
    "}\n",
    "\n",
    "with mlflow.start_run():\n",
    "    logged_agent_info = mlflow.pyfunc.log_model(\n",
    "        artifact_path=\"agent\",\n",
    "        python_model=\"agent.py\",\n",
    "        input_example=input_example,\n",
    "        resources=resources,\n",
    "        extra_pip_requirements=[\n",
    "            \"databricks-connect\",\n",
    "        ],\n",
    "    )"
   ]
  },
  {
   "cell_type": "markdown",
   "metadata": {
    "application/vnd.databricks.v1+cell": {
     "cellMetadata": {},
     "inputWidgets": {},
     "nuid": "cde8b1b1-1552-4375-8ce2-b57ff505e756",
     "showTitle": false,
     "tableResultSettingsMap": {},
     "title": ""
    }
   },
   "source": [
    "## Evaluate the agent with [Agent Evaluation](https://docs.databricks.com/generative-ai/agent-evaluation/index.html)\n",
    "\n",
    "You can edit the requests or expected responses in your evaluation dataset and run evaluation as you iterate your agent, leveraging mlflow to track the computed quality metrics.\n",
    "\n",
    "To evaluate your tool calls, try adding [custom metrics](https://docs.databricks.com/generative-ai/agent-evaluation/custom-metrics.html#evaluating-tool-calls)."
   ]
  },
  {
   "cell_type": "code",
   "execution_count": 0,
   "metadata": {
    "application/vnd.databricks.v1+cell": {
     "cellMetadata": {
      "byteLimit": 2048000,
      "rowLimit": 10000
     },
     "inputWidgets": {},
     "nuid": "063bb2c6-bb0c-4b13-97f8-0c41a87fa750",
     "showTitle": false,
     "tableResultSettingsMap": {},
     "title": ""
    }
   },
   "outputs": [],
   "source": [
    "import pandas as pd\n",
    "\n",
    "eval_examples = [\n",
    "    {\n",
    "        \"request\": {\n",
    "            \"messages\": [\n",
    "                {\n",
    "                    \"role\": \"user\",\n",
    "                    \"content\": \"What is the hometown of the reigning men's U.S. Open champion?\",\n",
    "                }\n",
    "            ]\n",
    "        },\n",
    "        \"expected_response\": None,\n",
    "    }\n",
    "]\n",
    "\n",
    "eval_dataset = pd.DataFrame(eval_examples)\n",
    "display(eval_dataset)"
   ]
  },
  {
   "cell_type": "code",
   "execution_count": 0,
   "metadata": {
    "application/vnd.databricks.v1+cell": {
     "cellMetadata": {
      "byteLimit": 2048000,
      "rowLimit": 10000
     },
     "inputWidgets": {},
     "nuid": "132d830f-8869-4f35-bad9-977cc7622ff9",
     "showTitle": false,
     "tableResultSettingsMap": {},
     "title": ""
    }
   },
   "outputs": [],
   "source": [
    "import mlflow\n",
    "\n",
    "with mlflow.start_run(run_id=logged_agent_info.run_id):\n",
    "    eval_results = mlflow.evaluate(\n",
    "        f\"runs:/{logged_agent_info.run_id}/agent\",\n",
    "        data=eval_dataset,  # Your evaluation dataset\n",
    "        model_type=\"databricks-agent\",  # Enable Mosaic AI Agent Evaluation\n",
    "    )\n",
    "\n",
    "# Review the evaluation results in the MLFLow UI (see console output), or access them in place:\n",
    "display(eval_results.tables[\"eval_results\"])"
   ]
  },
  {
   "cell_type": "markdown",
   "metadata": {
    "application/vnd.databricks.v1+cell": {
     "cellMetadata": {},
     "inputWidgets": {},
     "nuid": "1b1ec654-5f47-47e4-be00-543ac3fe11f4",
     "showTitle": false,
     "tableResultSettingsMap": {},
     "title": ""
    }
   },
   "source": [
    "## Perform pre-deployment validation of the agent\n",
    "Before registering and deploying the agent, we perform pre-deployment checks via the [mlflow.models.predict()](https://mlflow.org/docs/latest/python_api/mlflow.models.html#mlflow.models.predict) API. See [documentation](https://docs.databricks.com/machine-learning/model-serving/model-serving-debug.html#validate-inputs) for details"
   ]
  },
  {
   "cell_type": "code",
   "execution_count": 0,
   "metadata": {
    "application/vnd.databricks.v1+cell": {
     "cellMetadata": {
      "byteLimit": 2048000,
      "rowLimit": 10000
     },
     "inputWidgets": {},
     "nuid": "469404b2-633c-4a15-a11e-b1863d4e7096",
     "showTitle": false,
     "tableResultSettingsMap": {},
     "title": ""
    }
   },
   "outputs": [],
   "source": [
    "mlflow.models.predict(\n",
    "    model_uri=f\"runs:/{logged_agent_info.run_id}/agent\",\n",
    "    input_data={\n",
    "        \"messages\": [\n",
    "            {\n",
    "                \"role\": \"user\",\n",
    "                \"content\": \"What is the hometown of the reigning men's U.S. Open champion?\",\n",
    "            }\n",
    "        ]\n",
    "    },\n",
    "    env_manager=\"uv\",\n",
    ")"
   ]
  },
  {
   "cell_type": "markdown",
   "metadata": {
    "application/vnd.databricks.v1+cell": {
     "cellMetadata": {},
     "inputWidgets": {},
     "nuid": "7ab6beba-916a-49ef-86ec-05a04d7d4a0b",
     "showTitle": false,
     "tableResultSettingsMap": {},
     "title": ""
    }
   },
   "source": [
    "## Register the model to Unity Catalog\n",
    "\n",
    "Update the `catalog`, `schema`, and `model_name` below to register the MLflow model to Unity Catalog."
   ]
  },
  {
   "cell_type": "code",
   "execution_count": 0,
   "metadata": {
    "application/vnd.databricks.v1+cell": {
     "cellMetadata": {
      "byteLimit": 2048000,
      "rowLimit": 10000
     },
     "inputWidgets": {},
     "nuid": "e5beeea7-f280-4e8a-840e-1283256515ef",
     "showTitle": false,
     "tableResultSettingsMap": {},
     "title": ""
    }
   },
   "outputs": [],
   "source": [
    "mlflow.set_registry_uri(\"databricks-uc\")\n",
    "\n",
    "# TODO: define the catalog, schema, and model name for your UC model\n",
    "UC_MODEL_NAME = f\"{catalog}.{schema}.{model}\"\n",
    "\n",
    "# register the model to UC\n",
    "uc_registered_model_info = mlflow.register_model(\n",
    "    model_uri=logged_agent_info.model_uri,\n",
    "    name=UC_MODEL_NAME,\n",
    ")"
   ]
  },
  {
   "cell_type": "markdown",
   "metadata": {
    "application/vnd.databricks.v1+cell": {
     "cellMetadata": {},
     "inputWidgets": {},
     "nuid": "1eeebc23-c206-4716-824e-09ce944785a5",
     "showTitle": false,
     "tableResultSettingsMap": {},
     "title": ""
    }
   },
   "source": [
    "## Deploy the agent"
   ]
  },
  {
   "cell_type": "code",
   "execution_count": 0,
   "metadata": {
    "application/vnd.databricks.v1+cell": {
     "cellMetadata": {
      "byteLimit": 2048000,
      "rowLimit": 10000
     },
     "inputWidgets": {},
     "nuid": "f3691d4a-55e2-4ec0-a8a9-e2d90db0d06d",
     "showTitle": false,
     "tableResultSettingsMap": {},
     "title": ""
    }
   },
   "outputs": [],
   "source": [
    "from databricks import agents\n",
    "\n",
    "agents.deploy(\n",
    "    UC_MODEL_NAME,\n",
    "    uc_registered_model_info.version,\n",
    "    environment_vars={\n",
    "        \"DATABRICKS_TOKEN\": \"{{secrets/dbdemos/DATABRICKS_TOKEN}}\",\n",
    "        \"DATABRICKS_HOST\": \"{{secrets/dbdemos/DATABRICKS_HOST}}\",\n",
    "        \"SERPER_API_KEY\": \"{{secrets/dbdemos/SERPER_API_KEY}}\",\n",
    "    },\n",
    "    tags={\"endpointSource\": \"playground\"},\n",
    ")"
   ]
  },
  {
   "cell_type": "code",
   "execution_count": 0,
   "metadata": {
    "application/vnd.databricks.v1+cell": {
     "cellMetadata": {
      "byteLimit": 2048000,
      "rowLimit": 10000
     },
     "inputWidgets": {},
     "nuid": "41c13568-06eb-422b-807b-e69dbefa9567",
     "showTitle": false,
     "tableResultSettingsMap": {},
     "title": ""
    }
   },
   "outputs": [],
   "source": [
    "from databricks import agents\n",
    "\n",
    "# Note that <user_list> can specify individual users or groups.\n",
    "agents.set_permissions(\n",
    "    model_name=UC_MODEL_NAME,\n",
    "    users=[\"users\"],\n",
    "    permission_level=agents.PermissionLevel.CAN_QUERY,\n",
    ")"
   ]
  },
  {
   "cell_type": "markdown",
   "metadata": {
    "application/vnd.databricks.v1+cell": {
     "cellMetadata": {},
     "inputWidgets": {},
     "nuid": "3fd81e39-8c09-473e-a566-2019666bf24f",
     "showTitle": false,
     "tableResultSettingsMap": {},
     "title": ""
    }
   },
   "source": [
    "## Next steps\n",
    "\n",
    "After your agent is deployed, you can chat with it in AI playground to perform additional checks, share it with SMEs in your organization for feedback, or embed it in a production application. See [docs](https://docs.databricks.com/generative-ai/deploy-agent.html) for details"
   ]
  },
  {
   "cell_type": "code",
   "execution_count": 0,
   "metadata": {
    "application/vnd.databricks.v1+cell": {
     "cellMetadata": {
      "byteLimit": 2048000,
      "rowLimit": 10000
     },
     "inputWidgets": {},
     "nuid": "bad35f4c-fa63-41fd-a80a-2c698ec7507c",
     "showTitle": false,
     "tableResultSettingsMap": {},
     "title": ""
    }
   },
   "outputs": [],
   "source": [
    "import time\n",
    "from databricks.sdk.service.serving import EndpointStateReady, EndpointStateConfigUpdate\n",
    "from databricks.sdk import WorkspaceClient\n",
    "\n",
    "endpoint_name: str = f\"agents_{catalog}-{schema}-{model}\"\n",
    "print(\"\\nWaiting for endpoint to deploy.  This can take 10 - 20 minutes.\", end=\"\")\n",
    "w = WorkspaceClient()\n",
    "while (\n",
    "    w.serving_endpoints.get(endpoint_name).state.ready == EndpointStateReady.NOT_READY\n",
    "    or w.serving_endpoints.get(endpoint_name).state.config_update\n",
    "    == EndpointStateConfigUpdate.IN_PROGRESS\n",
    "):\n",
    "    print(\".\", end=\"\")\n",
    "    time.sleep(30)"
   ]
  },
  {
   "cell_type": "code",
   "execution_count": 0,
   "metadata": {
    "application/vnd.databricks.v1+cell": {
     "cellMetadata": {
      "byteLimit": 2048000,
      "rowLimit": 10000
     },
     "inputWidgets": {},
     "nuid": "2d42871b-8ca9-4463-ab2a-5ba5dd90a818",
     "showTitle": false,
     "tableResultSettingsMap": {},
     "title": ""
    }
   },
   "outputs": [],
   "source": [
    "w = WorkspaceClient()\n",
    "response = w.serving_endpoints.query(\n",
    "    name=endpoint_name,\n",
    "    dataframe_records=[\n",
    "        {\n",
    "            \"messages\": [\n",
    "                {\n",
    "                    \"role\": \"user\",\n",
    "                    \"content\": \"What is the hometown of the reigning men's U.S. Open champion?\",\n",
    "                }\n",
    "            ]\n",
    "        }\n",
    "    ],\n",
    "    temperature=0.1,\n",
    ")"
   ]
  },
  {
   "cell_type": "code",
   "execution_count": 0,
   "metadata": {
    "application/vnd.databricks.v1+cell": {
     "cellMetadata": {
      "byteLimit": 2048000,
      "rowLimit": 10000
     },
     "inputWidgets": {},
     "nuid": "ecad0a09-e28e-4ac1-aaad-2e9dfad64fad",
     "showTitle": false,
     "tableResultSettingsMap": {},
     "title": ""
    }
   },
   "outputs": [],
   "source": [
    "response.predictions"
   ]
  },
  {
   "cell_type": "markdown",
   "metadata": {
    "application/vnd.databricks.v1+cell": {
     "cellMetadata": {},
     "inputWidgets": {},
     "nuid": "6b87f80e-11f5-4977-a09d-676d00273e0e",
     "showTitle": false,
     "tableResultSettingsMap": {},
     "title": ""
    }
   },
   "source": [
    "## AI Playground integration with agent endpoint"
   ]
  }
 ],
 "metadata": {
  "application/vnd.databricks.v1+notebook": {
   "computePreferences": null,
   "dashboards": [],
   "environmentMetadata": null,
   "inputWidgetPreferences": null,
   "language": "python",
   "notebookMetadata": {
    "mostRecentlyExecutedCommandWithImplicitDF": {
     "commandId": 3054820919575092,
     "dataframes": [
      "_sqldf"
     ]
    },
    "pythonIndentUnit": 2
   },
   "notebookName": "multi-agent-driver-multi-tool",
   "widgets": {
    "DATABRICKS_TOKEN": {
     "currentValue": "",
     "nuid": "f046bb5a-910a-4e2a-bcd0-64df78227819",
     "typedWidgetInfo": {
      "autoCreated": false,
      "defaultValue": "",
      "label": "DATABRICKS_TOKEN",
      "name": "DATABRICKS_TOKEN",
      "options": {
       "widgetDisplayType": "Text",
       "validationRegex": null
      },
      "parameterDataType": "String"
     },
     "widgetInfo": {
      "widgetType": "text",
      "defaultValue": "",
      "label": "DATABRICKS_TOKEN",
      "name": "DATABRICKS_TOKEN",
      "options": {
       "widgetType": "text",
       "autoCreated": null,
       "validationRegex": null
      }
     }
    },
    "OPENAI_API_KEY": {
     "currentValue": "",
     "nuid": "018224a6-e44d-40b1-b60f-722336544585",
     "typedWidgetInfo": {
      "autoCreated": false,
      "defaultValue": "",
      "label": "OPENAI_API_KEY",
      "name": "OPENAI_API_KEY",
      "options": {
       "widgetDisplayType": "Text",
       "validationRegex": null
      },
      "parameterDataType": "String"
     },
     "widgetInfo": {
      "widgetType": "text",
      "defaultValue": "",
      "label": "OPENAI_API_KEY",
      "name": "OPENAI_API_KEY",
      "options": {
       "widgetType": "text",
       "autoCreated": null,
       "validationRegex": null
      }
     }
    },
    "catalog": {
     "currentValue": "bo_cheng_dnb_demos",
     "nuid": "df6a5a84-0f42-474d-a3df-ea0c7678f4aa",
     "typedWidgetInfo": {
      "autoCreated": false,
      "defaultValue": "bo_cheng_dnb_demos",
      "label": "catalog",
      "name": "catalog",
      "options": {
       "widgetDisplayType": "Text",
       "validationRegex": null
      },
      "parameterDataType": "String"
     },
     "widgetInfo": {
      "widgetType": "text",
      "defaultValue": "bo_cheng_dnb_demos",
      "label": "catalog",
      "name": "catalog",
      "options": {
       "widgetType": "text",
       "autoCreated": null,
       "validationRegex": null
      }
     }
    },
    "model": {
     "currentValue": "multi_agent",
     "nuid": "3b73a65d-1591-4388-858b-2f6d0fd67414",
     "typedWidgetInfo": {
      "autoCreated": false,
      "defaultValue": "multi_agent",
      "label": "model",
      "name": "model",
      "options": {
       "widgetDisplayType": "Text",
       "validationRegex": null
      },
      "parameterDataType": "String"
     },
     "widgetInfo": {
      "widgetType": "text",
      "defaultValue": "multi_agent",
      "label": "model",
      "name": "model",
      "options": {
       "widgetType": "text",
       "autoCreated": null,
       "validationRegex": null
      }
     }
    },
    "schema": {
     "currentValue": "agents",
     "nuid": "96ab0a10-9b9f-452c-b5f1-15e76030b1b6",
     "typedWidgetInfo": {
      "autoCreated": false,
      "defaultValue": "agents",
      "label": "schema",
      "name": "schema",
      "options": {
       "widgetDisplayType": "Text",
       "validationRegex": null
      },
      "parameterDataType": "String"
     },
     "widgetInfo": {
      "widgetType": "text",
      "defaultValue": "agents",
      "label": "schema",
      "name": "schema",
      "options": {
       "widgetType": "text",
       "autoCreated": null,
       "validationRegex": null
      }
     }
    },
    "secret_scope": {
     "currentValue": "dbdemos",
     "nuid": "182cc13d-5cc4-48a5-9db2-3b9c813ebe16",
     "typedWidgetInfo": {
      "autoCreated": false,
      "defaultValue": "dbdemos",
      "label": "secret_scope",
      "name": "secret_scope",
      "options": {
       "widgetDisplayType": "Text",
       "validationRegex": null
      },
      "parameterDataType": "String"
     },
     "widgetInfo": {
      "widgetType": "text",
      "defaultValue": "dbdemos",
      "label": "secret_scope",
      "name": "secret_scope",
      "options": {
       "widgetType": "text",
       "autoCreated": null,
       "validationRegex": null
      }
     }
    }
   }
  },
  "language_info": {
   "name": "python"
  }
 },
 "nbformat": 4,
 "nbformat_minor": 0
}
